{
 "cells": [
  {
   "cell_type": "markdown",
   "metadata": {
    "toc": "true"
   },
   "source": [
    "# Table of Contents\n",
    " <p><div class=\"lev1\"><a href=\"#Anatomy\"><span class=\"toc-item-num\">1&nbsp;&nbsp;</span>Anatomy</a></div><div class=\"lev1\"><a href=\"#Imaging\"><span class=\"toc-item-num\">2&nbsp;&nbsp;</span>Imaging</a></div><div class=\"lev1\"><a href=\"#Registration\"><span class=\"toc-item-num\">3&nbsp;&nbsp;</span>Registration</a></div><div class=\"lev1\"><a href=\"#Signal-unmixing\"><span class=\"toc-item-num\">4&nbsp;&nbsp;</span>Signal unmixing</a></div>"
   ]
  },
  {
   "cell_type": "markdown",
   "metadata": {},
   "source": [
    "# Anatomy"
   ]
  },
  {
   "cell_type": "markdown",
   "metadata": {},
   "source": [
    "The insect exoskeleton is essentially a continuous sheet consisting of hardened plates known as sclerites separated by more flexible regions that allow movement. Muscles attach directly to theses sclerites, or to tendinous internal folds of cuticle known as apodmes. "
   ]
  },
  {
   "cell_type": "markdown",
   "metadata": {},
   "source": [
    "The thorax of the true flies (diptera) consists of three fused segments which called (in order from anterior to posterior) the prothorax, the mesothorax and the metahorax. The wings belong to the mesothorax which is greatly expanded with respect to the prothorax and metathorax; however the major subdivisions of each segment is more or lest repeated serially if you look hard enough. Dorsal-ventrally the segments are subdivided into the Notum,Pleuron and Sternum. The muscle fibers of most of the direct flight muscles can be found lying directly under the major sclerites of the Pleuron however they  project and attach to a small set of sclerites within the wing. Curiously, the halteres -- which are modified hind wings of the metathorax -- have their own set of direct muscles."
   ]
  },
  {
   "cell_type": "markdown",
   "metadata": {},
   "source": [
    "Fig 1: Schematic of thoracic layout."
   ]
  },
  {
   "cell_type": "markdown",
   "metadata": {},
   "source": [
    "<img src=\"Thorasic_anatomy.svg\"style=\"width:500px;float:left;\"> "
   ]
  },
  {
   "cell_type": "markdown",
   "metadata": {},
   "source": [
    "Fig 2: Image of thorax with major sclerites labeled."
   ]
  },
  {
   "cell_type": "markdown",
   "metadata": {},
   "source": [
    "<img src=\"thorax.jpg\"style=\"width:400px;float:left;\"> "
   ]
  },
  {
   "cell_type": "markdown",
   "metadata": {},
   "source": [
    "Fig 3: Location of the major steering muscle muscle bodies."
   ]
  },
  {
   "cell_type": "markdown",
   "metadata": {},
   "source": [
    "# Imaging"
   ]
  },
  {
   "cell_type": "markdown",
   "metadata": {},
   "source": [
    "We are using a fairly simple wide-field epi-fluorescent microscope for imaging. The system consists of two overlapping infinity spaces, one for illumination the other for forming the image of the muscles on the camera."
   ]
  },
  {
   "cell_type": "markdown",
   "metadata": {},
   "source": [
    "To image Calcium activity in the steering muscles we are using GAL-4/UAS system to express the genetically encoded indicator GcAMP6f in the steering muscles. The GAL-4 'driver-line' determines what tissue is targeted, whereas the UAS 'responder line' determines what transgenic protein we will express. The genotypes of the lines I brought are: "
   ]
  },
  {
   "cell_type": "markdown",
   "metadata": {},
   "source": [
    "# Registration"
   ]
  },
  {
   "cell_type": "markdown",
   "metadata": {},
   "source": [
    "# Signal unmixing"
   ]
  },
  {
   "cell_type": "code",
   "execution_count": null,
   "metadata": {
    "collapsed": true
   },
   "outputs": [],
   "source": []
  }
 ],
 "metadata": {
  "kernelspec": {
   "display_name": "Python 2",
   "language": "python",
   "name": "python2"
  },
  "language_info": {
   "codemirror_mode": {
    "name": "ipython",
    "version": 2
   },
   "file_extension": ".py",
   "mimetype": "text/x-python",
   "name": "python",
   "nbconvert_exporter": "python",
   "pygments_lexer": "ipython2",
   "version": "2.7.12"
  },
  "nav_menu": {},
  "toc": {
   "navigate_menu": true,
   "number_sections": false,
   "sideBar": true,
   "threshold": 6,
   "toc_cell": true,
   "toc_section_display": "block",
   "toc_window_display": true
  }
 },
 "nbformat": 4,
 "nbformat_minor": 0
}
