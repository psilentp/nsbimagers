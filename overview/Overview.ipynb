{
 "cells": [
  {
   "cell_type": "markdown",
   "metadata": {
    "toc": "true"
   },
   "source": [
    "# Table of Contents\n",
    " <p><div class=\"lev1\"><a href=\"#Anatomy\"><span class=\"toc-item-num\">1&nbsp;&nbsp;</span>Anatomy</a></div><div class=\"lev1\"><a href=\"#Imaging\"><span class=\"toc-item-num\">2&nbsp;&nbsp;</span>Imaging</a></div><div class=\"lev2\"><a href=\"#Infinity-space\"><span class=\"toc-item-num\">2.1&nbsp;&nbsp;</span>Infinity space</a></div><div class=\"lev1\"><a href=\"#Strains-and-genetics\"><span class=\"toc-item-num\">3&nbsp;&nbsp;</span>Strains and genetics</a></div><div class=\"lev1\"><a href=\"#Aquisition-protocol\"><span class=\"toc-item-num\">4&nbsp;&nbsp;</span>Aquisition protocol</a></div><div class=\"lev3\"><a href=\"#software-setup\"><span class=\"toc-item-num\">4.0.1&nbsp;&nbsp;</span>software setup</a></div><div class=\"lev3\"><a href=\"#Finding-the-steering-muscles\"><span class=\"toc-item-num\">4.0.2&nbsp;&nbsp;</span>Finding the steering muscles</a></div><div class=\"lev3\"><a href=\"#Data-aquisition\"><span class=\"toc-item-num\">4.0.3&nbsp;&nbsp;</span>Data aquisition</a></div><div class=\"lev1\"><a href=\"#Basic-image-processing\"><span class=\"toc-item-num\">5&nbsp;&nbsp;</span>Basic image processing</a></div><div class=\"lev2\"><a href=\"#Grabbing-ROI's-using-ImageJ\"><span class=\"toc-item-num\">5.1&nbsp;&nbsp;</span>Grabbing ROI's using ImageJ</a></div><div class=\"lev2\"><a href=\"#Components-based-projections\"><span class=\"toc-item-num\">5.2&nbsp;&nbsp;</span>Components based projections</a></div><div class=\"lev2\"><a href=\"#Dimensionality-reduction-using-regression\"><span class=\"toc-item-num\">5.3&nbsp;&nbsp;</span>Dimensionality reduction using regression</a></div><div class=\"lev1\"><a href=\"#Image-registration\"><span class=\"toc-item-num\">6&nbsp;&nbsp;</span>Image registration</a></div>"
   ]
  },
  {
   "cell_type": "code",
   "execution_count": 1,
   "metadata": {
    "collapsed": false
   },
   "outputs": [],
   "source": [
    "%matplotlib inline\n",
    "%config InlineBackend.figure_format = 'png' #svg\n",
    "import matplotlib.pyplot as plt # this notebook is for plotting\n",
    "#import pylab as plt\n",
    "import numpy as np\n",
    "import scipy as sp\n",
    "import figurefirst as fifi\n",
    "from IPython.display import display,SVG"
   ]
  },
  {
   "cell_type": "markdown",
   "metadata": {},
   "source": [
    "# Anatomy"
   ]
  },
  {
   "cell_type": "markdown",
   "metadata": {},
   "source": [
    "The insect exoskeleton is essentially a continuous sheet consisting of hardened plates known as sclerites separated by more flexible regions that allow movement. Muscles attach directly to theses sclerites, or to tendinous internal folds of cuticle known as apodmes. "
   ]
  },
  {
   "cell_type": "markdown",
   "metadata": {},
   "source": [
    "The thorax of the true flies (diptera) consists of three fused segments which called (in order from anterior to posterior) the prothorax, the mesothorax and the metahorax. The wings belong to the mesothorax which is greatly expanded with respect to the prothorax and metathorax; however the major subdivisions of each segment is more or lest repeated serially if you look hard enough. Dorsal-ventrally the segments are subdivided into the Notum,Pleuron and Sternum. The muscle fibers of most of the direct flight muscles can be found lying directly under the major sclerites of the Pleuron however they  project and attach to a small set of sclerites within the wing. Curiously, the halteres -- which are modified hind wings of the metathorax -- have their own set of direct muscles."
   ]
  },
  {
   "cell_type": "markdown",
   "metadata": {},
   "source": [
    "**Fig 1.1 Schematic of thoracic layout.**\n",
    "\n",
    "<img src=\"static/Thorasic_anatomy.svg\"style=\"width:400px;float:left;\"> "
   ]
  },
  {
   "cell_type": "markdown",
   "metadata": {},
   "source": [
    "**Fig 1.2 Image of thorax with major sclerites labeled.**\n",
    "\n",
    "<img src=\"static/thorax.jpg\"style=\"width:400px;float:left;\"> "
   ]
  },
  {
   "cell_type": "markdown",
   "metadata": {},
   "source": [
    "**Fig 1.3 Location of the major steering muscle muscle bodies.**\n",
    "\n",
    "<img src=\"static/muscle_map_layers.svg\"style=\"width:400px;float:left;\"> "
   ]
  },
  {
   "cell_type": "markdown",
   "metadata": {},
   "source": [
    "# Imaging"
   ]
  },
  {
   "cell_type": "markdown",
   "metadata": {},
   "source": [
    "## Infinity space "
   ]
  },
  {
   "cell_type": "markdown",
   "metadata": {},
   "source": [
    "We are using a fairly simple wide-field epi-fluorescent microscope for imaging. The system is the same as a typical upright microscopes you are probably familiar with, with the exception that we have not included an optical pathway for eyepieces, nor have we included any mechanical device to facilitate exchange of the objectives (usually known as the nosepiece). Fundamentally, an infinity microscope is based on a system of two lenses: (1) The Objective lens, so named because it collects light from the object of interest. (2) The tube lens which is responsible for focusing the light onto the camera sensor.\n",
    "\n",
    "The range of angles that the objective lens can accept from the sample ultimately sets the upper bound on the microscope's resolving power. This range is specified by the numerical aperture or (NA) of the objective. In an infinity corrected system all rays from a point source of the object are focused into parallel rays of light by the objective lens, though light from different points in space are focused at different angles. Note that for the thin lens approximation of the microscope shown in figure 4 this means that specimen should be located at the focal plane of the lens. In practice, the distance between the front lens of a microscope objective and the specimen need not be the same as the objective focal length, instead this distance is usually specified by the working distance (WD). A key thing to realize here is that the objective lens is doing its work by converting spatial coordinates into angular coordinates. When you buy a microscope objective the effective focal length is sometimes listed, since this value specifies the transformation from space to angles. In the case that this value is not listed - as you will see below- it is easy to work out the effective focal length from the objective magnification, so long as you know the focal length of tube lens that the objective was built for.\n",
    "\n",
    "The tube lens essentially works like the objective lens but in reverse; taking the parallel rays from the objective lens and converting the angles back into spatial coordinates on the imaging sensor. As with the objective lens, the mapping between angles to space is a function of the tube lens focal length. \n",
    "\n",
    "As an exercise use a ray diagram to show that the microscope's magnification is the ratio of the focal length of the tube lens over the focal length of the objective lens."
   ]
  },
  {
   "cell_type": "markdown",
   "metadata": {
    "collapsed": true
   },
   "source": [
    "**Fig 2.2 infinity telescope**\n",
    "\n",
    "<img src=\"static/basic_infinity_space.svg\"style=\"width:400px;float:left;\"> "
   ]
  },
  {
   "cell_type": "markdown",
   "metadata": {},
   "source": [
    "# Strains and genetics"
   ]
  },
  {
   "cell_type": "markdown",
   "metadata": {},
   "source": [
    "To image calcium activity in the steering muscles we are using GAL-4/UAS system to express the genetically encoded indicator GcAMP6f in the steering muscles. The GAL-4 'driver-line' determines what tissue is targeted, whereas the UAS 'responder line' determines what transgenic protein we will express. The genotypes of the lines I brought are: \n",
    "\n",
    "GRM22H05 expresses in the muscles: b1,b2,b3,i1,i2, iii1,iii24, iii3, hg1,hg2,hg3,hg4 as well as a number of neck abdominal and leg muscles that I have not charactarized. GMR39E01 expresses in a similar set of flight muscles, with the exception of i1 and i2."
   ]
  },
  {
   "cell_type": "markdown",
   "metadata": {},
   "source": [
    "# Aquisition protocol"
   ]
  },
  {
   "cell_type": "markdown",
   "metadata": {},
   "source": [
    "### software setup\n",
    "- Make sure Axoscope,Micromanager, and Matlab are open.\n",
    "- Design the experiment to determine how long your protocol will run (I recommend somewhere from 10-20min to ensure that the file sizes are manigeble)\n",
    "- Setup micromanager \n",
    "        -8X8 binning\n",
    "        -21ms exposure time\n",
    "        -adjust gain: ...\n",
    "\n",
    "### Finding the steering muscles\n",
    "- Start micromanager in live mode. \n",
    "- place a tethered fly in front of the microscope.  \n",
    "- Position the fly so that you can see the blue light shining on the surface of the cuticle.\n",
    "- Make sure the fly is flying (it will be difficult to see the muscles during quiescence)\n",
    "- Focus on the b3 muscle (as best as possible).\n",
    "- You shouldn't need to adjust the hutchens much or at all - the position of the fly is fixed by the microscope - if the hutchens don't look good it's probably not a fixable problem. \n",
    "\n",
    "### Data aquisition\n",
    "- The camera outputs an exposure signal that we record simultaneously with signals from the arena controller and wingbeat analyzer. We will need to use the exposure signal to synchronize the images with the other data. It's also important that we record the first and last frame coming from the camera so we have a frame of reference. For this reason I usually start acquiring in the following order:\n",
    "\n",
    "(1) Axoscope \n",
    "(2) Multidimensional acquisition in micromanager\n",
    "(3) Run the experiment protocol in matlab\n"
   ]
  },
  {
   "cell_type": "markdown",
   "metadata": {},
   "source": [
    "# Basic image processing"
   ]
  },
  {
   "cell_type": "markdown",
   "metadata": {},
   "source": [
    "## Grabbing ROI's using ImageJ\n",
    "\n",
    "For the recordings from the fly steering muscles, we will take the data from the camera and save it as a stack of tiff images, where each image is a 128 X 128 array of 8 bit unsigned integers with values ranging from 0,255. Note that though we may be used to thinking about an image as a matrix, it is also reasonable to consider each of these images as the 16384-dimensional vector created by unraveling the matrix. The most natural representation will depend on the type of processing we wish to perform. \n",
    "\n",
    "Typically when using imaging techniques to study neurophysiology, we will probably want to somehow reduce the dimensionality of each image in order to make sense of the data. Perhaps this is so that we have a manageable dataset, but often times the goal is to project the data into a more biologically relevant frame - we are not really interested in how the intensity of the pixels fluctuate over time, but rather the changes in the fluorescence of some cells. \n",
    "\n",
    "The simplest method for performing this analysis is to use regions of interest (ROI's): We identify a collection of pixels that fall within a region of the image that we think corresponds to the cells we are interested in. We then summarize the intensity of the those pixels with a simple statistic (mean, median ect..). \n"
   ]
  },
  {
   "cell_type": "markdown",
   "metadata": {},
   "source": [
    "## Components based projections\n",
    "This ROI approach works quite well when the cells we wish to record from are well separated from one another on the image, but sometimes biology is not so convenient, and the cells we wish to record from overlap in the imaging frame. This is the case for the muscle bodies of the steering muscles, but you might also have this problem using two photon imaging from dense neuropil or nuclei where the axons and dendrites of different cells cannot be entirely resolved.\n",
    "\n",
    "There are a number of approaches for disentangling the signals from overlapping biological entities, but they all more or less involve viewing the image as some linear combination of overlapping parts known as components, although the methods for defining these components differ depending on the approach. Techniques such as Principle Components Analysis (PCA) or Independent Components Analysis (ICA) are considered blind techniques since the components are determined using by examining the statistics of how pixels intensity changes over time. For the steering muscles of the thorax we are in a somewhat fortunate situation that we understand the anatomy fairly well and, the anatomy is fairly stereotyped from fly-to-fly. For this reason we have the opportunity to define the components more explicitly from our knowledge of the anatomy."
   ]
  },
  {
   "cell_type": "markdown",
   "metadata": {},
   "source": [
    "To provide a simple example of how we might do this, consider a very low resolution image, $\\mathbf{y}$, that is composed of only two pixels. Pretend that we know that within the field of view of this image there is a large cell that fills both pixels. We also know that there is a small, 1 pixel-wide cell sitting in the second pixel over. Now if we knew the fluorescence intensity of each of these cells we would predict the intensity of the final image to be the sum of these two distinct components. Say the large cell is active at an intensity $\\beta_{1}$, and  the small cell is active at a value of $\\beta_{2}$, then the final distribution of pixel intensities would be: $\\mathbf{y} = \\begin{bmatrix}\\beta_{1}&\\beta_{1}+\\beta_{2}\\end{bmatrix}$\n",
    "\n",
    "**figure 5.1 photons from two cells summing on a small sensor**\n",
    "\n",
    "<img src=\"static/two_pix.svg\"style=\"width:400px;float:left;\"> \n"
   ]
  },
  {
   "cell_type": "markdown",
   "metadata": {},
   "source": [
    "Of course, we are really interested in the inverse problem; our goal is to determine $\\beta_{1}$ and $\\beta_{2}$ from the image, $\\mathbf{y}$, a fairly easy problem in this case. We get $\\beta_{1}$, from the value of $y_{1}$, and we can get $\\beta_{2}$ by subtracting  $\\beta_{1}$ from $y_{2}$.\n",
    "\n",
    "A more general way of solving for $\\beta_{1}$ and $\\beta_{2}$ however is by writing the matrix equation:\n",
    "\n",
    "$\\begin{bmatrix}\\mathbf{x_{1}} & \\mathbf{x_{2}}\\end{bmatrix}\\boldsymbol{\\beta} = \\mathbf{y}$ where $\\mathbf{x_{1}}$,$\\mathbf{x_{2}}$ are respectively, the column vectors $\\begin{bmatrix} 1 \\\\ 1 \\end{bmatrix}$ and $\\begin{bmatrix} 0 \\\\ 1\\end{bmatrix}$, that tell us the spatial distribution of cell 1 and cell 2 and $\\boldsymbol{\\beta}$ is a column vector of unknown coefficients $\\begin{bmatrix}\\beta_{1} \\\\ \\beta_{2}\\end{bmatrix}$. Using this relation we can then just solve for the betas with: $\\boldsymbol{\\beta} = \\begin{bmatrix}\\mathbf{x_{1}} & \\mathbf{x_{2}}\\end{bmatrix}^{-1}\\mathbf{y}$"
   ]
  },
  {
   "cell_type": "code",
   "execution_count": 152,
   "metadata": {
    "collapsed": false
   },
   "outputs": [
    {
     "data": {
      "text/plain": [
       "array([[1, 0],\n",
       "       [1, 1]])"
      ]
     },
     "execution_count": 152,
     "metadata": {},
     "output_type": "execute_result"
    }
   ],
   "source": [
    "np.vstack((x1,x2)).T"
   ]
  },
  {
   "cell_type": "code",
   "execution_count": 148,
   "metadata": {
    "collapsed": false,
    "scrolled": true
   },
   "outputs": [
    {
     "name": "stdout",
     "output_type": "stream",
     "text": [
      "True\n"
     ]
    }
   ],
   "source": [
    "import numpy as np\n",
    "b1,b2 = (3,8)\n",
    "x1 = np.array([1,1])\n",
    "x2 = np.array([0,1])\n",
    "img = x1*b1 + x2*b2\n",
    "xinv = np.linalg.inv(np.vstack((x1,x2)).T)\n",
    "b1_,b2_ = np.dot(xinv,img)\n",
    "print np.allclose((b1_,b2_),(b1,b2))"
   ]
  },
  {
   "cell_type": "code",
   "execution_count": 115,
   "metadata": {
    "code_folding": [
     0
    ],
    "collapsed": false
   },
   "outputs": [
    {
     "name": "stdout",
     "output_type": "stream",
     "text": [
      "encoding error\n"
     ]
    }
   ],
   "source": [
    "# Make Fig 5.1\n",
    "layout = fifi.FigureLayout('static/two_pix_layout.svg',make_mplfigures = True)\n",
    "#layout.axes['x1'].imshow([x1*b1],aspect = 'auto',interpolation = 'Nearest',cmap = plt.cm.gray,vmin = -1,vmax = 10)\n",
    "layout.axes['x1'].pcolor([x1*b1],cmap = plt.cm.gray,vmin = -1,vmax = 12,edgecolors='w')\n",
    "layout.axes['x2'].pcolor([x2*b2],cmap = plt.cm.gray,vmin = -1,vmax = 12,edgecolors='w')\n",
    "layout.axes['img'].pcolor([img],cmap = plt.cm.gray,vmin = -1,vmax = 12,edgecolors='w')\n",
    "[fifi.mpl_functions.kill_spines(ax) for ax in layout.axes.values()];plt.close()\n",
    "layout.save('static/two_pix.svg',hidelayers = ['Layer 1'],targetlayer = 'mpltarget')\n",
    "#layout.save('static/two_pix.svg',targetlayer = 'mpltarget')\n",
    "#display(SVG('static/components.svg'))"
   ]
  },
  {
   "cell_type": "markdown",
   "metadata": {},
   "source": [
    "## Dimensionality reduction using regression\n",
    "Of course in the above example we have set things up here so that the there is a single, unique solution to our linear system since the matrix $X = \\begin{bmatrix}\\mathbf{x_{1}} & \\mathbf{x_{2}}\\end{bmatrix}$ (sometimes called the design matrix) is square and invertible. In practice, this is not often (probably never) going to be the case. We will have many more pixels than components (the system is overdetermined), and our image will be contaminated by some noise (making the system inconsistent). \n",
    "\n",
    "To solve the problem when we have a non-square $X$  and inconsistent data, we can use the generalized inverse, or pseudo-inverse to find the least-squares solution. \n",
    "\n",
    "To consider a more realistic example, lets pretend we now have a 6x6 pixel sensor. Again, we have two cells, but now cell 1 fills a 2x2 pixel area in the top left of the sensor, and cell 2 is where it was before -- one pixel over in the top row. \n",
    "\n",
    "**Fig 5.2 two-component 3x3 image**\n",
    "\n",
    "<img src=\"static/components.svg\"style=\"width:400px;float:left;\"> \n"
   ]
  },
  {
   "cell_type": "markdown",
   "metadata": {},
   "source": [
    "To solve this problem we unravel the image and components to treat them as vectors and then find the betas using: $\\boldsymbol{\\beta} = X^{+}\\mathbf{y}$ where $X^+$ is the pseudoinverse of $X$.\n",
    "\n",
    "It is worth realizing here, that if the components of $X$ don't overlap, this approach will simply return the average pixel intensity within each of the components - equivalant to using ROI's. Additionally, there is no reason why the elements of the design matrix need to be binary. Since X essentially constitutes a model of how we believe fluorescence from the underlying biological entities contribute to photons detected on our imaging sensor, we can use fractional values in X to account for blur from out of focus light if we choose. The extraction routene in used by the planotaxis program uses a model constructed by blurring high resolution confocal sections to approximate the view through our wide-field objective.\n",
    "\n",
    "Questions:\n",
    "\n",
    "How sensitive are the results to noise? How do the results depend on the size of the components? How about the amount of overlap?"
   ]
  },
  {
   "cell_type": "code",
   "execution_count": 122,
   "metadata": {
    "collapsed": false
   },
   "outputs": [
    {
     "name": "stdout",
     "output_type": "stream",
     "text": [
      "true activations:3.00,8.00\n",
      "estimated activations:3.27,7.92\n"
     ]
    }
   ],
   "source": [
    "import numpy as np\n",
    "b1,b2 = (3.,8.)\n",
    "print 'true activations:%.2f,%.2f'%(b1,b2)\n",
    "x1 = np.array([[1,1,0],[1,1,0],[0,0,0]]) # cell 1\n",
    "x2 = np.array([[0,1,0],[0,0,0],[0,0,0]]) # cell 2\n",
    "img = x1*b1 + x2*b2\n",
    "noise = (np.random.rand(3,3)-0.5)*3\n",
    "img += noise\n",
    "xinv = np.linalg.pinv(np.vstack((x1.ravel(),x2.ravel())).T)\n",
    "b1_,b2_ = np.dot(xinv,img.ravel())\n",
    "print 'estimated activations:%.2f,%.2f'%(b1_,b2_)"
   ]
  },
  {
   "cell_type": "code",
   "execution_count": 133,
   "metadata": {
    "code_folding": [
     0
    ],
    "collapsed": false
   },
   "outputs": [
    {
     "name": "stdout",
     "output_type": "stream",
     "text": [
      "encoding error\n"
     ]
    },
    {
     "data": {
      "image/svg+xml": [
       "<svg height=\"1.2in\" id=\"svg2\" inkscape:version=\"0.91 r13725\" sodipodi:docname=\"components_layout.svg\" version=\"1.1\" viewBox=\"0 0 360 108\" width=\"4in\" xmlns=\"http://www.w3.org/2000/svg\" xmlns:cc=\"http://creativecommons.org/ns#\" xmlns:dc=\"http://purl.org/dc/elements/1.1/\" xmlns:figurefirst=\"http://flyranch.github.io/figurefirst/\" xmlns:inkscape=\"http://www.inkscape.org/namespaces/inkscape\" xmlns:rdf=\"http://www.w3.org/1999/02/22-rdf-syntax-ns#\" xmlns:sodipodi=\"http://sodipodi.sourceforge.net/DTD/sodipodi-0.dtd\" xmlns:svg=\"http://www.w3.org/2000/svg\" xmlns:xlink=\"http://www.w3.org/1999/xlink\">\n",
       "  <sodipodi:namedview bordercolor=\"#666666\" borderopacity=\"1.0\" id=\"base\" inkscape:current-layer=\"layer2\" inkscape:cx=\"180\" inkscape:cy=\"67.470535\" inkscape:document-units=\"in\" inkscape:pageopacity=\"0.0\" inkscape:pageshadow=\"2\" inkscape:window-height=\"955\" inkscape:window-maximized=\"1\" inkscape:window-width=\"1680\" inkscape:window-x=\"0\" inkscape:window-y=\"1\" inkscape:zoom=\"2.0997143\" pagecolor=\"#ffffff\" showgrid=\"false\" units=\"in\"/>\n",
       "  <defs id=\"defs4\"/>\n",
       "  <metadata id=\"metadata7\">\n",
       "    <rdf:RDF>\n",
       "      <cc:Work rdf:about=\"\">\n",
       "        <dc:format>image/svg+xml</dc:format>\n",
       "        <dc:type rdf:resource=\"http://purl.org/dc/dcmitype/StillImage\"/>\n",
       "        <dc:title/>\n",
       "      </cc:Work>\n",
       "    </rdf:RDF>\n",
       "  </metadata>\n",
       "  <g id=\"layer1\" inkscape:groupmode=\"layer\" inkscape:label=\"Layer 1\" style=\"display:none\" transform=\"translate(0,-944.36217)\">\n",
       "    <rect height=\"71.757095\" id=\"rect4167\" style=\"fill:#ffffff;fill-opacity:1;stroke:#ed1c24;stroke-width:1.44073105;stroke-miterlimit:10;stroke-dasharray:none;stroke-opacity:1\" width=\"71.757095\" x=\"8.0619621\" y=\"971.65289\">\n",
       "      <figurefirst:axis figurefirst:name=\"x1\"/>\n",
       "    </rect>\n",
       "    <rect height=\"71.757095\" id=\"rect4167-5\" style=\"fill:#ffffff;fill-opacity:1;stroke:#ed1c24;stroke-width:1.44073105;stroke-miterlimit:10;stroke-dasharray:none;stroke-opacity:1\" width=\"71.757095\" x=\"99.04467\" y=\"971.65289\">\n",
       "      <figurefirst:axis figurefirst:name=\"x2\"/>\n",
       "    </rect>\n",
       "    <rect height=\"71.757095\" id=\"rect4167-0\" style=\"fill:#ffffff;fill-opacity:1;stroke:#ed1c24;stroke-width:1.44073105;stroke-miterlimit:10;stroke-dasharray:none;stroke-opacity:1\" width=\"71.757095\" x=\"281.38828\" y=\"971.65289\">\n",
       "      <figurefirst:axis figurefirst:name=\"img\"/>\n",
       "    </rect>\n",
       "    <rect height=\"71.757095\" id=\"rect4167-5-7\" style=\"display:inline;fill:#ffffff;fill-opacity:1;stroke:#ed1c24;stroke-width:1.44073105;stroke-miterlimit:10;stroke-dasharray:none;stroke-opacity:1\" width=\"71.757095\" x=\"187.7323\" y=\"971.65289\">\n",
       "      <figurefirst:axis figurefirst:name=\"noise\"/>\n",
       "    </rect>\n",
       "  </g>\n",
       "  <g id=\"layer2\" inkscape:groupmode=\"layer\" inkscape:label=\"labels\" style=\"display:inline\">\n",
       "    <text id=\"text4251\" sodipodi:linespacing=\"125%\" style=\"font-style:normal;font-variant:normal;font-weight:normal;font-stretch:normal;font-size:12.5px;line-height:125%;font-family:sans-serif;-inkscape-font-specification:'sans-serif, Normal';text-align:start;letter-spacing:0px;word-spacing:0px;writing-mode:lr-tb;text-anchor:start;display:inline;fill:#000000;fill-opacity:1;stroke:none;stroke-width:1px;stroke-linecap:butt;stroke-linejoin:miter;stroke-opacity:1\" x=\"265.95462\" xml:space=\"preserve\" y=\"68.277847\"><tspan id=\"tspan4253\" sodipodi:role=\"line\" x=\"265.95462\" y=\"68.277847\">=</tspan></text>\n",
       "    <text id=\"text4293\" sodipodi:linespacing=\"125%\" style=\"font-style:normal;font-variant:normal;font-weight:normal;font-stretch:normal;font-size:14.89977932px;line-height:125%;font-family:sans-serif;-inkscape-font-specification:'sans-serif, Normal';text-align:start;letter-spacing:0px;word-spacing:0px;writing-mode:lr-tb;text-anchor:start;fill:#000000;fill-opacity:1;stroke:none;stroke-width:1px;stroke-linecap:butt;stroke-linejoin:miter;stroke-opacity:1\" x=\"20.191113\" xml:space=\"preserve\" y=\"18.219305\"><tspan id=\"tspan4295\" sodipodi:role=\"line\" x=\"20.191113\" y=\"18.219305\">β    <tspan id=\"tspan4556\" style=\"font-weight:bold\">x</tspan></tspan></text>\n",
       "    <text id=\"text4293-4\" sodipodi:linespacing=\"125%\" style=\"font-style:normal;font-variant:normal;font-weight:normal;font-stretch:normal;font-size:14.89977932px;line-height:125%;font-family:sans-serif;-inkscape-font-specification:'sans-serif, Normal';text-align:start;letter-spacing:0px;word-spacing:0px;writing-mode:lr-tb;text-anchor:start;fill:#000000;fill-opacity:1;stroke:none;stroke-width:1px;stroke-linecap:butt;stroke-linejoin:miter;stroke-opacity:1\" x=\"202.33136\" xml:space=\"preserve\" y=\"19.612522\"><tspan id=\"tspan4295-4\" sodipodi:role=\"line\" x=\"202.33136\" y=\"19.612522\">noise</tspan></text>\n",
       "    <text id=\"text4293-4-2\" sodipodi:linespacing=\"125%\" style=\"font-style:normal;font-variant:normal;font-weight:normal;font-stretch:normal;font-size:14.89977932px;line-height:125%;font-family:sans-serif;-inkscape-font-specification:'sans-serif, Normal';text-align:start;letter-spacing:0px;word-spacing:0px;writing-mode:lr-tb;text-anchor:start;fill:#000000;fill-opacity:1;stroke:none;stroke-width:1px;stroke-linecap:butt;stroke-linejoin:miter;stroke-opacity:1\" x=\"311.96722\" xml:space=\"preserve\" y=\"18.168379\"><tspan id=\"tspan4295-4-7\" sodipodi:role=\"line\" style=\"font-weight:bold\" x=\"311.96722\" y=\"18.168379\">y</tspan></text>\n",
       "    <text id=\"text4251-6\" sodipodi:linespacing=\"125%\" style=\"font-style:normal;font-variant:normal;font-weight:normal;font-stretch:normal;font-size:12.5px;line-height:125%;font-family:sans-serif;-inkscape-font-specification:'sans-serif, Normal';text-align:start;letter-spacing:0px;word-spacing:0px;writing-mode:lr-tb;text-anchor:start;display:inline;fill:#000000;fill-opacity:1;stroke:none;stroke-width:1px;stroke-linecap:butt;stroke-linejoin:miter;stroke-opacity:1\" x=\"85.167259\" xml:space=\"preserve\" y=\"69.04528\"><tspan id=\"tspan4253-9\" sodipodi:role=\"line\" x=\"85.167259\" y=\"69.04528\">+</tspan></text>\n",
       "    <text id=\"text4293-4-0\" sodipodi:linespacing=\"125%\" style=\"font-style:normal;font-variant:normal;font-weight:normal;font-stretch:normal;font-size:14.89977932px;line-height:125%;font-family:sans-serif;-inkscape-font-specification:'sans-serif, Normal';text-align:start;letter-spacing:0px;word-spacing:0px;writing-mode:lr-tb;text-anchor:start;display:inline;fill:#000000;fill-opacity:1;stroke:none;stroke-width:1px;stroke-linecap:butt;stroke-linejoin:miter;stroke-opacity:1\" x=\"108.8751\" xml:space=\"preserve\" y=\"18.219305\"><tspan id=\"tspan4295-4-0\" sodipodi:role=\"line\" x=\"108.8751\" y=\"18.219305\"> β    <tspan id=\"tspan4554\" style=\"font-weight:bold\">x</tspan></tspan></text>\n",
       "    <text id=\"text4251-6-3\" sodipodi:linespacing=\"125%\" style=\"font-style:normal;font-variant:normal;font-weight:normal;font-stretch:normal;font-size:12.5px;line-height:125%;font-family:sans-serif;-inkscape-font-specification:'sans-serif, Normal';text-align:start;letter-spacing:0px;word-spacing:0px;writing-mode:lr-tb;text-anchor:start;display:inline;fill:#000000;fill-opacity:1;stroke:none;stroke-width:1px;stroke-linecap:butt;stroke-linejoin:miter;stroke-opacity:1\" x=\"173.30501\" xml:space=\"preserve\" y=\"68.996124\"><tspan id=\"tspan4253-9-7\" sodipodi:role=\"line\" x=\"173.30501\" y=\"68.996124\">+</tspan></text>\n",
       "    <text id=\"text4448\" sodipodi:linespacing=\"125%\" style=\"font-style:normal;font-weight:normal;font-size:40px;line-height:125%;font-family:sans-serif;letter-spacing:0px;word-spacing:0px;fill:#000000;fill-opacity:1;stroke:none;stroke-width:1px;stroke-linecap:butt;stroke-linejoin:miter;stroke-opacity:1\" x=\"52.198315\" xml:space=\"preserve\" y=\"-19.633299\"><tspan id=\"tspan4452\" sodipodi:role=\"line\" x=\"52.198315\" y=\"-19.633299\"/></text>\n",
       "    <text id=\"text4293-48\" sodipodi:linespacing=\"125%\" style=\"font-style:normal;font-variant:normal;font-weight:normal;font-stretch:normal;font-size:7.44988966px;line-height:125%;font-family:sans-serif;-inkscape-font-specification:'sans-serif, Normal';text-align:start;letter-spacing:0px;word-spacing:0px;writing-mode:lr-tb;text-anchor:start;display:inline;fill:#000000;fill-opacity:1;stroke:none;stroke-width:1px;stroke-linecap:butt;stroke-linejoin:miter;stroke-opacity:1\" x=\"30.160788\" xml:space=\"preserve\" y=\"19.753298\"><tspan id=\"tspan4295-5\" sodipodi:role=\"line\" x=\"30.160788\" y=\"19.753298\">1</tspan></text>\n",
       "    <text id=\"text4293-48-2\" sodipodi:linespacing=\"125%\" style=\"font-style:normal;font-variant:normal;font-weight:normal;font-stretch:normal;font-size:7.44988966px;line-height:125%;font-family:sans-serif;-inkscape-font-specification:'sans-serif, Normal';text-align:start;letter-spacing:0px;word-spacing:0px;writing-mode:lr-tb;text-anchor:start;display:inline;fill:#000000;fill-opacity:1;stroke:none;stroke-width:1px;stroke-linecap:butt;stroke-linejoin:miter;stroke-opacity:1\" x=\"123.00974\" xml:space=\"preserve\" y=\"19.802408\"><tspan id=\"tspan4295-5-4\" sodipodi:role=\"line\" x=\"123.00974\" y=\"19.802408\">2</tspan></text>\n",
       "    <text id=\"text4293-48-3\" sodipodi:linespacing=\"125%\" style=\"font-style:normal;font-variant:normal;font-weight:normal;font-stretch:normal;font-size:7.44988966px;line-height:125%;font-family:sans-serif;-inkscape-font-specification:'sans-serif, Normal';text-align:start;letter-spacing:0px;word-spacing:0px;writing-mode:lr-tb;text-anchor:start;display:inline;fill:#000000;fill-opacity:1;stroke:none;stroke-width:1px;stroke-linecap:butt;stroke-linejoin:miter;stroke-opacity:1\" x=\"60.1805\" xml:space=\"preserve\" y=\"19.753298\"><tspan id=\"tspan4295-5-9\" sodipodi:role=\"line\" x=\"60.1805\" y=\"19.753298\">1</tspan></text>\n",
       "    <text id=\"text4293-48-2-2\" sodipodi:linespacing=\"125%\" style=\"font-style:normal;font-variant:normal;font-weight:normal;font-stretch:normal;font-size:7.44988966px;line-height:125%;font-family:sans-serif;-inkscape-font-specification:'sans-serif, Normal';text-align:start;letter-spacing:0px;word-spacing:0px;writing-mode:lr-tb;text-anchor:start;display:inline;fill:#000000;fill-opacity:1;stroke:none;stroke-width:1px;stroke-linecap:butt;stroke-linejoin:miter;stroke-opacity:1\" x=\"153.72189\" xml:space=\"preserve\" y=\"19.802408\"><tspan id=\"tspan4295-5-4-6\" sodipodi:role=\"line\" x=\"153.72189\" y=\"19.802408\">2</tspan></text>\n",
       "    <text id=\"text4532\" sodipodi:linespacing=\"125%\" style=\"font-style:normal;font-variant:normal;font-weight:normal;font-stretch:normal;font-size:11.17483425px;line-height:125%;font-family:sans-serif;-inkscape-font-specification:'sans-serif, Normal';text-align:start;letter-spacing:0px;word-spacing:0px;writing-mode:lr-tb;text-anchor:start;fill:#000000;fill-opacity:1;stroke:none;stroke-width:1px;stroke-linecap:butt;stroke-linejoin:miter;stroke-opacity:1\" x=\"38.585186\" xml:space=\"preserve\" y=\"18.210213\"><tspan id=\"tspan4534\" sodipodi:role=\"line\" x=\"38.585186\" y=\"18.210213\">•</tspan></text>\n",
       "    <text id=\"text4532-7\" sodipodi:linespacing=\"125%\" style=\"font-style:normal;font-variant:normal;font-weight:normal;font-stretch:normal;font-size:11.17483425px;line-height:125%;font-family:sans-serif;-inkscape-font-specification:'sans-serif, Normal';text-align:start;letter-spacing:0px;word-spacing:0px;writing-mode:lr-tb;text-anchor:start;display:inline;fill:#000000;fill-opacity:1;stroke:none;stroke-width:1px;stroke-linecap:butt;stroke-linejoin:miter;stroke-opacity:1\" x=\"131.33032\" xml:space=\"preserve\" y=\"18.210213\"><tspan id=\"tspan4534-0\" sodipodi:role=\"line\" x=\"131.33032\" y=\"18.210213\">•</tspan></text>\n",
       "  </g>\n",
       "<g id=\"mpl_layer\" inkscape:groupmode=\"layer\" inkscape:label=\"mpl_layer\" style=\"display:inline;stroke-linecap:butt;stroke-linejoin:round\" transform=\"scale(1.25,1.25)\"><figurefirst:targetlayer figurefirst:name=\"mpl_layer\"/>\n",
       " <defs>\n",
       "  <style type=\"text/css\">\n",
       "*{stroke-linecap:butt;stroke-linejoin:round;stroke-miterlimit:100000;}\n",
       "  </style>\n",
       " </defs>\n",
       " <g id=\"figure_1\">\n",
       "  <g id=\"patch_1\">\n",
       "   <path d=\"M 0 86.4  L 288 86.4  L 288 0  L 0 0  L 0 86.4  z \" style=\"fill:none;\"/>\n",
       "  </g>\n",
       "  <g id=\"axes_1\">\n",
       "   <g id=\"patch_2\">\n",
       "    <path d=\"M 6.44957 79.238252  L 63.855246 79.238252  L 63.855246 21.832576  L 6.44957 21.832576  L 6.44957 79.238252  z \" style=\"fill:none;\"/>\n",
       "   </g>\n",
       "   <g id=\"PolyCollection_1\">\n",
       "    <path clip-path=\"url(#p38ab65a9d4)\" d=\"M 6.44957 79.238252  L 6.44957 60.103027  L 25.584795 60.103027  L 25.584795 79.238252  L 6.44957 79.238252  z \" style=\"fill:#131313;stroke:#ffffff;stroke-width:0.25;\"/>\n",
       "    <path clip-path=\"url(#p38ab65a9d4)\" d=\"M 25.584795 79.238252  L 25.584795 60.103027  L 44.72002 60.103027  L 44.72002 79.238252  L 25.584795 79.238252  z \" style=\"fill:#131313;stroke:#ffffff;stroke-width:0.25;\"/>\n",
       "    <path clip-path=\"url(#p38ab65a9d4)\" d=\"M 44.72002 79.238252  L 44.72002 60.103027  L 63.855246 60.103027  L 63.855246 79.238252  L 44.72002 79.238252  z \" style=\"fill:#131313;stroke:#ffffff;stroke-width:0.25;\"/>\n",
       "    <path clip-path=\"url(#p38ab65a9d4)\" d=\"M 6.44957 60.103027  L 6.44957 40.967801  L 25.584795 40.967801  L 25.584795 60.103027  L 6.44957 60.103027  z \" style=\"fill:#4e4e4e;stroke:#ffffff;stroke-width:0.25;\"/>\n",
       "    <path clip-path=\"url(#p38ab65a9d4)\" d=\"M 25.584795 60.103027  L 25.584795 40.967801  L 44.72002 40.967801  L 44.72002 60.103027  L 25.584795 60.103027  z \" style=\"fill:#4e4e4e;stroke:#ffffff;stroke-width:0.25;\"/>\n",
       "    <path clip-path=\"url(#p38ab65a9d4)\" d=\"M 44.72002 60.103027  L 44.72002 40.967801  L 63.855246 40.967801  L 63.855246 60.103027  L 44.72002 60.103027  z \" style=\"fill:#131313;stroke:#ffffff;stroke-width:0.25;\"/>\n",
       "    <path clip-path=\"url(#p38ab65a9d4)\" d=\"M 6.44957 40.967801  L 6.44957 21.832576  L 25.584795 21.832576  L 25.584795 40.967801  L 6.44957 40.967801  z \" style=\"fill:#4e4e4e;stroke:#ffffff;stroke-width:0.25;\"/>\n",
       "    <path clip-path=\"url(#p38ab65a9d4)\" d=\"M 25.584795 40.967801  L 25.584795 21.832576  L 44.72002 21.832576  L 44.72002 40.967801  L 25.584795 40.967801  z \" style=\"fill:#4e4e4e;stroke:#ffffff;stroke-width:0.25;\"/>\n",
       "    <path clip-path=\"url(#p38ab65a9d4)\" d=\"M 44.72002 40.967801  L 44.72002 21.832576  L 63.855246 21.832576  L 63.855246 40.967801  L 44.72002 40.967801  z \" style=\"fill:#131313;stroke:#ffffff;stroke-width:0.25;\"/>\n",
       "   </g>\n",
       "   <g id=\"patch_3\">\n",
       "    <path d=\"M 6.44957 21.832576  L 63.855246 21.832576  \" style=\"fill:none;\"/>\n",
       "   </g>\n",
       "   <g id=\"patch_4\">\n",
       "    <path d=\"M 63.855246 79.238252  L 63.855246 21.832576  \" style=\"fill:none;\"/>\n",
       "   </g>\n",
       "   <g id=\"patch_5\">\n",
       "    <path d=\"M 6.44957 79.238252  L 63.855246 79.238252  \" style=\"fill:none;\"/>\n",
       "   </g>\n",
       "   <g id=\"patch_6\">\n",
       "    <path d=\"M 6.44957 79.238252  L 6.44957 21.832576  \" style=\"fill:none;\"/>\n",
       "   </g>\n",
       "   <g id=\"matplotlib.axis_1\"/>\n",
       "   <g id=\"matplotlib.axis_2\"/>\n",
       "  </g>\n",
       "  <g id=\"axes_2\">\n",
       "   <g id=\"patch_7\">\n",
       "    <path d=\"M 150.18584 79.238252  L 207.591516 79.238252  L 207.591516 21.832576  L 150.18584 21.832576  L 150.18584 79.238252  z \" style=\"fill:none;\"/>\n",
       "   </g>\n",
       "   <g id=\"PolyCollection_2\">\n",
       "    <path clip-path=\"url(#p6638fe49bc)\" d=\"M 150.18584 79.238252  L 150.18584 60.103027  L 169.321065 60.103027  L 169.321065 79.238252  L 150.18584 79.238252  z \" style=\"fill:#1c1c1c;stroke:#ffffff;stroke-width:0.25;\"/>\n",
       "    <path clip-path=\"url(#p6638fe49bc)\" d=\"M 169.321065 79.238252  L 169.321065 60.103027  L 188.456291 60.103027  L 188.456291 79.238252  L 169.321065 79.238252  z \" style=\"stroke:#ffffff;stroke-width:0.25;\"/>\n",
       "    <path clip-path=\"url(#p6638fe49bc)\" d=\"M 188.456291 79.238252  L 188.456291 60.103027  L 207.591516 60.103027  L 207.591516 79.238252  L 188.456291 79.238252  z \" style=\"fill:#0f0f0f;stroke:#ffffff;stroke-width:0.25;\"/>\n",
       "    <path clip-path=\"url(#p6638fe49bc)\" d=\"M 150.18584 60.103027  L 150.18584 40.967801  L 169.321065 40.967801  L 169.321065 60.103027  L 150.18584 60.103027  z \" style=\"fill:#121212;stroke:#ffffff;stroke-width:0.25;\"/>\n",
       "    <path clip-path=\"url(#p6638fe49bc)\" d=\"M 169.321065 60.103027  L 169.321065 40.967801  L 188.456291 40.967801  L 188.456291 60.103027  L 169.321065 60.103027  z \" style=\"fill:#2a2a2a;stroke:#ffffff;stroke-width:0.25;\"/>\n",
       "    <path clip-path=\"url(#p6638fe49bc)\" d=\"M 188.456291 60.103027  L 188.456291 40.967801  L 207.591516 40.967801  L 207.591516 60.103027  L 188.456291 60.103027  z \" style=\"fill:#272727;stroke:#ffffff;stroke-width:0.25;\"/>\n",
       "    <path clip-path=\"url(#p6638fe49bc)\" d=\"M 150.18584 40.967801  L 150.18584 21.832576  L 169.321065 21.832576  L 169.321065 40.967801  L 150.18584 40.967801  z \" style=\"fill:#0d0d0d;stroke:#ffffff;stroke-width:0.25;\"/>\n",
       "    <path clip-path=\"url(#p6638fe49bc)\" d=\"M 169.321065 40.967801  L 169.321065 21.832576  L 188.456291 21.832576  L 188.456291 40.967801  L 169.321065 40.967801  z \" style=\"fill:#171717;stroke:#ffffff;stroke-width:0.25;\"/>\n",
       "    <path clip-path=\"url(#p6638fe49bc)\" d=\"M 188.456291 40.967801  L 188.456291 21.832576  L 207.591516 21.832576  L 207.591516 40.967801  L 188.456291 40.967801  z \" style=\"fill:#171717;stroke:#ffffff;stroke-width:0.25;\"/>\n",
       "   </g>\n",
       "   <g id=\"patch_8\">\n",
       "    <path d=\"M 150.18584 21.832576  L 207.591516 21.832576  \" style=\"fill:none;\"/>\n",
       "   </g>\n",
       "   <g id=\"patch_9\">\n",
       "    <path d=\"M 207.591516 79.238252  L 207.591516 21.832576  \" style=\"fill:none;\"/>\n",
       "   </g>\n",
       "   <g id=\"patch_10\">\n",
       "    <path d=\"M 150.18584 79.238252  L 207.591516 79.238252  \" style=\"fill:none;\"/>\n",
       "   </g>\n",
       "   <g id=\"patch_11\">\n",
       "    <path d=\"M 150.18584 79.238252  L 150.18584 21.832576  \" style=\"fill:none;\"/>\n",
       "   </g>\n",
       "   <g id=\"matplotlib.axis_3\"/>\n",
       "   <g id=\"matplotlib.axis_4\"/>\n",
       "  </g>\n",
       "  <g id=\"axes_3\">\n",
       "   <g id=\"patch_12\">\n",
       "    <path d=\"M 79.235736 79.238252  L 136.641412 79.238252  L 136.641412 21.832576  L 79.235736 21.832576  L 79.235736 79.238252  z \" style=\"fill:none;\"/>\n",
       "   </g>\n",
       "   <g id=\"PolyCollection_3\">\n",
       "    <path clip-path=\"url(#p3912eaf5e7)\" d=\"M 79.235736 79.238252  L 79.235736 60.103027  L 98.370961 60.103027  L 98.370961 79.238252  L 79.235736 79.238252  z \" style=\"fill:#131313;stroke:#ffffff;stroke-width:0.25;\"/>\n",
       "    <path clip-path=\"url(#p3912eaf5e7)\" d=\"M 98.370961 79.238252  L 98.370961 60.103027  L 117.506187 60.103027  L 117.506187 79.238252  L 98.370961 79.238252  z \" style=\"fill:#131313;stroke:#ffffff;stroke-width:0.25;\"/>\n",
       "    <path clip-path=\"url(#p3912eaf5e7)\" d=\"M 117.506187 79.238252  L 117.506187 60.103027  L 136.641412 60.103027  L 136.641412 79.238252  L 117.506187 79.238252  z \" style=\"fill:#131313;stroke:#ffffff;stroke-width:0.25;\"/>\n",
       "    <path clip-path=\"url(#p3912eaf5e7)\" d=\"M 79.235736 60.103027  L 79.235736 40.967801  L 98.370961 40.967801  L 98.370961 60.103027  L 79.235736 60.103027  z \" style=\"fill:#131313;stroke:#ffffff;stroke-width:0.25;\"/>\n",
       "    <path clip-path=\"url(#p3912eaf5e7)\" d=\"M 98.370961 60.103027  L 98.370961 40.967801  L 117.506187 40.967801  L 117.506187 60.103027  L 98.370961 60.103027  z \" style=\"fill:#131313;stroke:#ffffff;stroke-width:0.25;\"/>\n",
       "    <path clip-path=\"url(#p3912eaf5e7)\" d=\"M 117.506187 60.103027  L 117.506187 40.967801  L 136.641412 40.967801  L 136.641412 60.103027  L 117.506187 60.103027  z \" style=\"fill:#131313;stroke:#ffffff;stroke-width:0.25;\"/>\n",
       "    <path clip-path=\"url(#p3912eaf5e7)\" d=\"M 79.235736 40.967801  L 79.235736 21.832576  L 98.370961 21.832576  L 98.370961 40.967801  L 79.235736 40.967801  z \" style=\"fill:#131313;stroke:#ffffff;stroke-width:0.25;\"/>\n",
       "    <path clip-path=\"url(#p3912eaf5e7)\" d=\"M 98.370961 40.967801  L 98.370961 21.832576  L 117.506187 21.832576  L 117.506187 40.967801  L 98.370961 40.967801  z \" style=\"fill:#b1b1b1;stroke:#ffffff;stroke-width:0.25;\"/>\n",
       "    <path clip-path=\"url(#p3912eaf5e7)\" d=\"M 117.506187 40.967801  L 117.506187 21.832576  L 136.641412 21.832576  L 136.641412 40.967801  L 117.506187 40.967801  z \" style=\"fill:#131313;stroke:#ffffff;stroke-width:0.25;\"/>\n",
       "   </g>\n",
       "   <g id=\"patch_13\">\n",
       "    <path d=\"M 79.235736 21.832576  L 136.641412 21.832576  \" style=\"fill:none;\"/>\n",
       "   </g>\n",
       "   <g id=\"patch_14\">\n",
       "    <path d=\"M 136.641412 79.238252  L 136.641412 21.832576  \" style=\"fill:none;\"/>\n",
       "   </g>\n",
       "   <g id=\"patch_15\">\n",
       "    <path d=\"M 79.235736 79.238252  L 136.641412 79.238252  \" style=\"fill:none;\"/>\n",
       "   </g>\n",
       "   <g id=\"patch_16\">\n",
       "    <path d=\"M 79.235736 79.238252  L 79.235736 21.832576  \" style=\"fill:none;\"/>\n",
       "   </g>\n",
       "   <g id=\"matplotlib.axis_5\"/>\n",
       "   <g id=\"matplotlib.axis_6\"/>\n",
       "  </g>\n",
       "  <g id=\"axes_4\">\n",
       "   <g id=\"patch_17\">\n",
       "    <path d=\"M 225.110624 79.238252  L 282.5163 79.238252  L 282.5163 21.832576  L 225.110624 21.832576  L 225.110624 79.238252  z \" style=\"fill:none;\"/>\n",
       "   </g>\n",
       "   <g id=\"PolyCollection_4\">\n",
       "    <path clip-path=\"url(#p2a87c804cb)\" d=\"M 225.110624 79.238252  L 225.110624 60.103027  L 244.245849 60.103027  L 244.245849 79.238252  L 225.110624 79.238252  z \" style=\"fill:#1c1c1c;stroke:#ffffff;stroke-width:0.25;\"/>\n",
       "    <path clip-path=\"url(#p2a87c804cb)\" d=\"M 244.245849 79.238252  L 244.245849 60.103027  L 263.381075 60.103027  L 263.381075 79.238252  L 244.245849 79.238252  z \" style=\"stroke:#ffffff;stroke-width:0.25;\"/>\n",
       "    <path clip-path=\"url(#p2a87c804cb)\" d=\"M 263.381075 79.238252  L 263.381075 60.103027  L 282.5163 60.103027  L 282.5163 79.238252  L 263.381075 79.238252  z \" style=\"fill:#0f0f0f;stroke:#ffffff;stroke-width:0.25;\"/>\n",
       "    <path clip-path=\"url(#p2a87c804cb)\" d=\"M 225.110624 60.103027  L 225.110624 40.967801  L 244.245849 40.967801  L 244.245849 60.103027  L 225.110624 60.103027  z \" style=\"fill:#4d4d4d;stroke:#ffffff;stroke-width:0.25;\"/>\n",
       "    <path clip-path=\"url(#p2a87c804cb)\" d=\"M 244.245849 60.103027  L 244.245849 40.967801  L 263.381075 40.967801  L 263.381075 60.103027  L 244.245849 60.103027  z \" style=\"fill:#656565;stroke:#ffffff;stroke-width:0.25;\"/>\n",
       "    <path clip-path=\"url(#p2a87c804cb)\" d=\"M 263.381075 60.103027  L 263.381075 40.967801  L 282.5163 40.967801  L 282.5163 60.103027  L 263.381075 60.103027  z \" style=\"fill:#272727;stroke:#ffffff;stroke-width:0.25;\"/>\n",
       "    <path clip-path=\"url(#p2a87c804cb)\" d=\"M 225.110624 40.967801  L 225.110624 21.832576  L 244.245849 21.832576  L 244.245849 40.967801  L 225.110624 40.967801  z \" style=\"fill:#494949;stroke:#ffffff;stroke-width:0.25;\"/>\n",
       "    <path clip-path=\"url(#p2a87c804cb)\" d=\"M 244.245849 40.967801  L 244.245849 21.832576  L 263.381075 21.832576  L 263.381075 40.967801  L 244.245849 40.967801  z \" style=\"fill:#f0f0f0;stroke:#ffffff;stroke-width:0.25;\"/>\n",
       "    <path clip-path=\"url(#p2a87c804cb)\" d=\"M 263.381075 40.967801  L 263.381075 21.832576  L 282.5163 21.832576  L 282.5163 40.967801  L 263.381075 40.967801  z \" style=\"fill:#171717;stroke:#ffffff;stroke-width:0.25;\"/>\n",
       "   </g>\n",
       "   <g id=\"patch_18\">\n",
       "    <path d=\"M 225.110624 21.832576  L 282.5163 21.832576  \" style=\"fill:none;\"/>\n",
       "   </g>\n",
       "   <g id=\"patch_19\">\n",
       "    <path d=\"M 282.5163 79.238252  L 282.5163 21.832576  \" style=\"fill:none;\"/>\n",
       "   </g>\n",
       "   <g id=\"patch_20\">\n",
       "    <path d=\"M 225.110624 79.238252  L 282.5163 79.238252  \" style=\"fill:none;\"/>\n",
       "   </g>\n",
       "   <g id=\"patch_21\">\n",
       "    <path d=\"M 225.110624 79.238252  L 225.110624 21.832576  \" style=\"fill:none;\"/>\n",
       "   </g>\n",
       "   <g id=\"matplotlib.axis_7\"/>\n",
       "   <g id=\"matplotlib.axis_8\"/>\n",
       "  </g>\n",
       " </g>\n",
       " <defs>\n",
       "  <clipPath id=\"p38ab65a9d4\">\n",
       "   <rect height=\"57.405676\" width=\"57.405676\" x=\"6.44956968\" y=\"21.832576\"/>\n",
       "  </clipPath>\n",
       "  <clipPath id=\"p6638fe49bc\">\n",
       "   <rect height=\"57.405676\" width=\"57.405676\" x=\"150.18584\" y=\"21.832576\"/>\n",
       "  </clipPath>\n",
       "  <clipPath id=\"p2a87c804cb\">\n",
       "   <rect height=\"57.405676\" width=\"57.405676\" x=\"225.110624\" y=\"21.832576\"/>\n",
       "  </clipPath>\n",
       "  <clipPath id=\"p3912eaf5e7\">\n",
       "   <rect height=\"57.405676\" width=\"57.405676\" x=\"79.235736\" y=\"21.832576\"/>\n",
       "  </clipPath>\n",
       " </defs>\n",
       "</g></svg>"
      ],
      "text/plain": [
       "<IPython.core.display.SVG object>"
      ]
     },
     "metadata": {},
     "output_type": "display_data"
    }
   ],
   "source": [
    "# Make Fig 5.1\n",
    "layout = fifi.FigureLayout('static/components_layout.svg',make_mplfigures = True)\n",
    "for axlbl,dta in zip(('x1','x2','noise','img'),(x1*b1,x2*b2,noise,img)):\n",
    "    layout.axes[axlbl].pcolor(dta[::-1,:],cmap = plt.cm.gray,vmin = -1,vmax = 12,edgecolors='w')\n",
    "[fifi.mpl_functions.kill_spines(ax) for ax in layout.axes.values()];plt.close()\n",
    "layout.save('static/components.svg',hidelayers = ['Layer 1'])\n",
    "display(SVG('static/components.svg'))"
   ]
  },
  {
   "cell_type": "markdown",
   "metadata": {},
   "source": [
    "# Image registration"
   ]
  },
  {
   "cell_type": "markdown",
   "metadata": {
    "collapsed": true
   },
   "source": [
    "The stereotyped anatomy of the fly thorax allows us to take advantage of prior-constructed components for the steering muscles, however, there will be some variation in anatomy from fly-to-fly. Additionally, it would be fairly difficult to orient the fly exactly the same way from one experiment to the next. To deal with this, we will need to register our model, X, with the images collected on the sensor. I've found that using a three point (affine) registration does a pretty good job, and is simple enough so that it is possible to apply the fits by eye. \n",
    "\n",
    "There is no need to go into the details of affine transformations since there is plenty of material available online. What is important is that we need to identify three corresponding points on both the model and the calcium images.  As a happy circumstance, the patterning of the large hairs on the surface of the fly and the patterning of the muscles are driven by deeply intertwined developmental programs. So I ended up using three of these large hairs (arrows in figure 1.3) to form the reference frame. In practice, you will probably find the best fits by using these fiduciaries as initial markers, and then using the layout of the musculature to refine the fit."
   ]
  },
  {
   "cell_type": "code",
   "execution_count": null,
   "metadata": {
    "collapsed": true
   },
   "outputs": [],
   "source": []
  },
  {
   "cell_type": "code",
   "execution_count": null,
   "metadata": {
    "collapsed": true
   },
   "outputs": [],
   "source": []
  },
  {
   "cell_type": "code",
   "execution_count": null,
   "metadata": {
    "collapsed": true
   },
   "outputs": [],
   "source": []
  },
  {
   "cell_type": "code",
   "execution_count": null,
   "metadata": {
    "collapsed": true
   },
   "outputs": [],
   "source": []
  },
  {
   "cell_type": "code",
   "execution_count": null,
   "metadata": {
    "collapsed": true
   },
   "outputs": [],
   "source": []
  },
  {
   "cell_type": "code",
   "execution_count": null,
   "metadata": {
    "collapsed": true
   },
   "outputs": [],
   "source": []
  },
  {
   "cell_type": "code",
   "execution_count": null,
   "metadata": {
    "collapsed": true
   },
   "outputs": [],
   "source": []
  },
  {
   "cell_type": "code",
   "execution_count": null,
   "metadata": {
    "collapsed": true
   },
   "outputs": [],
   "source": []
  }
 ],
 "metadata": {
  "kernelspec": {
   "display_name": "Python 2",
   "language": "python",
   "name": "python2"
  },
  "language_info": {
   "codemirror_mode": {
    "name": "ipython",
    "version": 2
   },
   "file_extension": ".py",
   "mimetype": "text/x-python",
   "name": "python",
   "nbconvert_exporter": "python",
   "pygments_lexer": "ipython2",
   "version": "2.7.12"
  },
  "nav_menu": {},
  "toc": {
   "navigate_menu": true,
   "number_sections": true,
   "sideBar": true,
   "threshold": 6,
   "toc_cell": true,
   "toc_section_display": "block",
   "toc_window_display": true
  },
  "toc_position": {
   "height": "782px",
   "left": "0px",
   "right": "1009px",
   "top": "106px",
   "width": "279px"
  }
 },
 "nbformat": 4,
 "nbformat_minor": 0
}
