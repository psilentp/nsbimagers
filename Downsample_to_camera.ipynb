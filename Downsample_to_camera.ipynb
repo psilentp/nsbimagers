{
 "cells": [
  {
   "cell_type": "markdown",
   "metadata": {},
   "source": [
    "Code to parse the axon data into the sampling time of the camera"
   ]
  },
  {
   "cell_type": "code",
   "execution_count": 2,
   "metadata": {
    "collapsed": false
   },
   "outputs": [
    {
     "name": "stdout",
     "output_type": "stream",
     "text": [
      "Using matplotlib backend: TkAgg\n",
      "Populating the interactive namespace from numpy and matplotlib\n"
     ]
    }
   ],
   "source": [
    "%pylab"
   ]
  },
  {
   "cell_type": "code",
   "execution_count": 72,
   "metadata": {
    "collapsed": true
   },
   "outputs": [],
   "source": [
    "def get_axon_signals(filename):\n",
    "    \"\"\"map the axon signals into a dictionary\"\"\"\n",
    "    from neo.io.axonio import AxonIO\n",
    "    reader = AxonIO(filename=filename)\n",
    "    blocks = reader.read()\n",
    "    header = reader.read_header()\n",
    "    channel_names = [info['ADCChNames'] for info in header['listADCInfo']]\n",
    "    channel_units = [info['ADCChUnits'] for info in header['listADCInfo']]\n",
    "    times = blocks[0].segments[0].analogsignals[0].times\n",
    "    sampling_period = blocks[0].segments[0].analogsignals[0].sampling_period\n",
    "    times.units = 's'\n",
    "    sampling_period.units = 's'\n",
    "    times = np.array(times)\n",
    "    sampling_period = np.float64(sampling_period)\n",
    "    signals = [np.array(x) for x in blocks[0].segments[0].analogsignals]\n",
    "    signals = dict(zip(channel_names,signals))\n",
    "    signals['times'] = times\n",
    "    return signals\n",
    "\n",
    "def idx_by_thresh(signal,thresh = 0.1):\n",
    "    \"\"\"returns a lists of arrays, each array holds the indexes where sig\n",
    "    is greater than thresh\"\"\"\n",
    "    diffs = np.diff((signal > 1).astype(int))\n",
    "    starts = np.where(diffs == 1)[0] # indexes where signal goes above thresh\n",
    "    stops = np.where(diffs == -1)[0] # indexes wehre signal goes below thresh\n",
    "    return [np.arange(sta+1,stp) for sta,stp in zip(starts,stops)]\n",
    "\n",
    "def downsample_to_frames(sigs,sync_sig_name = 'CamSync'):\n",
    "    \"\"\"downsample the axon data into frame time\"\"\"\n",
    "    exposures = idx_by_thresh(sigs[sync_sig_name],thresh = 1)\n",
    "    #idx of each frame in the axon array.\n",
    "    downsampled = {}\n",
    "    for key in sigs.keys():\n",
    "        sig = sigs[key]camera\n",
    "        downsamp = np.array([np.mean(sig[ex]) for ex in exposures])\n",
    "        downsampled[key] = downsamp\n",
    "    return downsampled"
   ]
  },
  {
   "cell_type": "code",
   "execution_count": 3,
   "metadata": {
    "collapsed": false
   },
   "outputs": [],
   "source": [
    "#load the muscle data\n",
    "import cPickle\n",
    "with open('/home/psilentp/Dropbox/imaging_cycle/Fly1003/images/model_fits.cpkl') as f:\n",
    "    muscle_data = cPickle.load(f)"
   ]
  },
  {
   "cell_type": "code",
   "execution_count": 5,
   "metadata": {
    "collapsed": false
   },
   "outputs": [],
   "source": [
    "# load the axon data\n",
    "axon_sigs = get_axon_signals('/home/psilentp/Dropbox/imaging_cycle/Fly1003/16712002.abf')"
   ]
  },
  {
   "cell_type": "code",
   "execution_count": 71,
   "metadata": {
    "collapsed": false
   },
   "outputs": [],
   "source": [
    "# downsample into the imaging timebase (maybe ok to assume regular samples)\n",
    "downsamp_sigs = downsample_to_frames(axon_sigs)"
   ]
  }
 ],
 "metadata": {
  "kernelspec": {
   "display_name": "Python 2",
   "language": "python",
   "name": "python2"
  },
  "language_info": {
   "codemirror_mode": {
    "name": "ipython",
    "version": 2
   },
   "file_extension": ".py",
   "mimetype": "text/x-python",
   "name": "python",
   "nbconvert_exporter": "python",
   "pygments_lexer": "ipython2",
   "version": "2.7.11+"
  },
  "nav_menu": {},
  "toc": {
   "navigate_menu": true,
   "number_sections": true,
   "sideBar": true,
   "threshold": 6,
   "toc_cell": false,
   "toc_section_display": "block",
   "toc_window_display": false
  }
 },
 "nbformat": 4,
 "nbformat_minor": 0
}
